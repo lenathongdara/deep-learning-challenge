{
 "cells": [
  {
   "cell_type": "markdown",
   "metadata": {},
   "source": [
    "## Optimize the Model"
   ]
  },
  {
   "cell_type": "code",
   "execution_count": 23,
   "metadata": {},
   "outputs": [
    {
     "name": "stdout",
     "output_type": "stream",
     "text": [
      "Requirement already satisfied: tensorflow in c:\\users\\thong\\anaconda3\\lib\\site-packages (2.15.0)\n",
      "Requirement already satisfied: tensorflow-intel==2.15.0 in c:\\users\\thong\\anaconda3\\lib\\site-packages (from tensorflow) (2.15.0)\n",
      "Requirement already satisfied: tensorboard<2.16,>=2.15 in c:\\users\\thong\\anaconda3\\lib\\site-packages (from tensorflow-intel==2.15.0->tensorflow) (2.15.1)\n",
      "Requirement already satisfied: keras<2.16,>=2.15.0 in c:\\users\\thong\\anaconda3\\lib\\site-packages (from tensorflow-intel==2.15.0->tensorflow) (2.15.0)\n",
      "Requirement already satisfied: numpy<2.0.0,>=1.23.5 in c:\\users\\thong\\anaconda3\\lib\\site-packages (from tensorflow-intel==2.15.0->tensorflow) (1.23.5)\n",
      "Requirement already satisfied: tensorflow-io-gcs-filesystem>=0.23.1 in c:\\users\\thong\\anaconda3\\lib\\site-packages (from tensorflow-intel==2.15.0->tensorflow) (0.31.0)\n",
      "Requirement already satisfied: grpcio<2.0,>=1.24.3 in c:\\users\\thong\\anaconda3\\lib\\site-packages (from tensorflow-intel==2.15.0->tensorflow) (1.60.0)\n",
      "Requirement already satisfied: google-pasta>=0.1.1 in c:\\users\\thong\\anaconda3\\lib\\site-packages (from tensorflow-intel==2.15.0->tensorflow) (0.2.0)\n",
      "Requirement already satisfied: astunparse>=1.6.0 in c:\\users\\thong\\anaconda3\\lib\\site-packages (from tensorflow-intel==2.15.0->tensorflow) (1.6.3)\n",
      "Requirement already satisfied: setuptools in c:\\users\\thong\\anaconda3\\lib\\site-packages (from tensorflow-intel==2.15.0->tensorflow) (65.6.3)\n",
      "Requirement already satisfied: gast!=0.5.0,!=0.5.1,!=0.5.2,>=0.2.1 in c:\\users\\thong\\anaconda3\\lib\\site-packages (from tensorflow-intel==2.15.0->tensorflow) (0.5.4)\n",
      "Requirement already satisfied: absl-py>=1.0.0 in c:\\users\\thong\\anaconda3\\lib\\site-packages (from tensorflow-intel==2.15.0->tensorflow) (2.0.0)\n",
      "Requirement already satisfied: libclang>=13.0.0 in c:\\users\\thong\\anaconda3\\lib\\site-packages (from tensorflow-intel==2.15.0->tensorflow) (16.0.6)\n",
      "Requirement already satisfied: h5py>=2.9.0 in c:\\users\\thong\\anaconda3\\lib\\site-packages (from tensorflow-intel==2.15.0->tensorflow) (3.7.0)\n",
      "Requirement already satisfied: typing-extensions>=3.6.6 in c:\\users\\thong\\anaconda3\\lib\\site-packages (from tensorflow-intel==2.15.0->tensorflow) (4.4.0)\n",
      "Requirement already satisfied: six>=1.12.0 in c:\\users\\thong\\anaconda3\\lib\\site-packages (from tensorflow-intel==2.15.0->tensorflow) (1.16.0)\n",
      "Requirement already satisfied: packaging in c:\\users\\thong\\anaconda3\\lib\\site-packages (from tensorflow-intel==2.15.0->tensorflow) (22.0)\n",
      "Requirement already satisfied: opt-einsum>=2.3.2 in c:\\users\\thong\\anaconda3\\lib\\site-packages (from tensorflow-intel==2.15.0->tensorflow) (3.3.0)\n",
      "Requirement already satisfied: termcolor>=1.1.0 in c:\\users\\thong\\anaconda3\\lib\\site-packages (from tensorflow-intel==2.15.0->tensorflow) (2.4.0)\n",
      "Requirement already satisfied: flatbuffers>=23.5.26 in c:\\users\\thong\\anaconda3\\lib\\site-packages (from tensorflow-intel==2.15.0->tensorflow) (23.5.26)\n",
      "Requirement already satisfied: tensorflow-estimator<2.16,>=2.15.0 in c:\\users\\thong\\anaconda3\\lib\\site-packages (from tensorflow-intel==2.15.0->tensorflow) (2.15.0)\n",
      "Requirement already satisfied: ml-dtypes~=0.2.0 in c:\\users\\thong\\anaconda3\\lib\\site-packages (from tensorflow-intel==2.15.0->tensorflow) (0.2.0)\n",
      "Requirement already satisfied: wrapt<1.15,>=1.11.0 in c:\\users\\thong\\anaconda3\\lib\\site-packages (from tensorflow-intel==2.15.0->tensorflow) (1.14.1)\n",
      "Requirement already satisfied: protobuf!=4.21.0,!=4.21.1,!=4.21.2,!=4.21.3,!=4.21.4,!=4.21.5,<5.0.0dev,>=3.20.3 in c:\\users\\thong\\anaconda3\\lib\\site-packages (from tensorflow-intel==2.15.0->tensorflow) (4.23.4)\n",
      "Requirement already satisfied: wheel<1.0,>=0.23.0 in c:\\users\\thong\\anaconda3\\lib\\site-packages (from astunparse>=1.6.0->tensorflow-intel==2.15.0->tensorflow) (0.38.4)\n",
      "Requirement already satisfied: werkzeug>=1.0.1 in c:\\users\\thong\\anaconda3\\lib\\site-packages (from tensorboard<2.16,>=2.15->tensorflow-intel==2.15.0->tensorflow) (2.2.2)\n",
      "Requirement already satisfied: markdown>=2.6.8 in c:\\users\\thong\\anaconda3\\lib\\site-packages (from tensorboard<2.16,>=2.15->tensorflow-intel==2.15.0->tensorflow) (3.4.1)\n",
      "Requirement already satisfied: requests<3,>=2.21.0 in c:\\users\\thong\\anaconda3\\lib\\site-packages (from tensorboard<2.16,>=2.15->tensorflow-intel==2.15.0->tensorflow) (2.28.1)\n",
      "Requirement already satisfied: google-auth<3,>=1.6.3 in c:\\users\\thong\\anaconda3\\lib\\site-packages (from tensorboard<2.16,>=2.15->tensorflow-intel==2.15.0->tensorflow) (2.25.2)\n",
      "Requirement already satisfied: tensorboard-data-server<0.8.0,>=0.7.0 in c:\\users\\thong\\anaconda3\\lib\\site-packages (from tensorboard<2.16,>=2.15->tensorflow-intel==2.15.0->tensorflow) (0.7.2)\n",
      "Requirement already satisfied: google-auth-oauthlib<2,>=0.5 in c:\\users\\thong\\anaconda3\\lib\\site-packages (from tensorboard<2.16,>=2.15->tensorflow-intel==2.15.0->tensorflow) (1.1.0)\n",
      "Requirement already satisfied: rsa<5,>=3.1.4 in c:\\users\\thong\\anaconda3\\lib\\site-packages (from google-auth<3,>=1.6.3->tensorboard<2.16,>=2.15->tensorflow-intel==2.15.0->tensorflow) (4.9)\n",
      "Requirement already satisfied: cachetools<6.0,>=2.0.0 in c:\\users\\thong\\anaconda3\\lib\\site-packages (from google-auth<3,>=1.6.3->tensorboard<2.16,>=2.15->tensorflow-intel==2.15.0->tensorflow) (5.3.2)\n",
      "Requirement already satisfied: pyasn1-modules>=0.2.1 in c:\\users\\thong\\anaconda3\\lib\\site-packages (from google-auth<3,>=1.6.3->tensorboard<2.16,>=2.15->tensorflow-intel==2.15.0->tensorflow) (0.2.8)\n",
      "Requirement already satisfied: requests-oauthlib>=0.7.0 in c:\\users\\thong\\anaconda3\\lib\\site-packages (from google-auth-oauthlib<2,>=0.5->tensorboard<2.16,>=2.15->tensorflow-intel==2.15.0->tensorflow) (1.3.1)\n",
      "Requirement already satisfied: idna<4,>=2.5 in c:\\users\\thong\\anaconda3\\lib\\site-packages (from requests<3,>=2.21.0->tensorboard<2.16,>=2.15->tensorflow-intel==2.15.0->tensorflow) (3.4)\n",
      "Requirement already satisfied: certifi>=2017.4.17 in c:\\users\\thong\\anaconda3\\lib\\site-packages (from requests<3,>=2.21.0->tensorboard<2.16,>=2.15->tensorflow-intel==2.15.0->tensorflow) (2023.7.22)\n",
      "Requirement already satisfied: charset-normalizer<3,>=2 in c:\\users\\thong\\anaconda3\\lib\\site-packages (from requests<3,>=2.21.0->tensorboard<2.16,>=2.15->tensorflow-intel==2.15.0->tensorflow) (2.0.4)\n",
      "Requirement already satisfied: urllib3<1.27,>=1.21.1 in c:\\users\\thong\\anaconda3\\lib\\site-packages (from requests<3,>=2.21.0->tensorboard<2.16,>=2.15->tensorflow-intel==2.15.0->tensorflow) (1.26.14)\n",
      "Requirement already satisfied: MarkupSafe>=2.1.1 in c:\\users\\thong\\anaconda3\\lib\\site-packages (from werkzeug>=1.0.1->tensorboard<2.16,>=2.15->tensorflow-intel==2.15.0->tensorflow) (2.1.1)\n",
      "Requirement already satisfied: pyasn1<0.5.0,>=0.4.6 in c:\\users\\thong\\anaconda3\\lib\\site-packages (from pyasn1-modules>=0.2.1->google-auth<3,>=1.6.3->tensorboard<2.16,>=2.15->tensorflow-intel==2.15.0->tensorflow) (0.4.8)\n",
      "Requirement already satisfied: oauthlib>=3.0.0 in c:\\users\\thong\\anaconda3\\lib\\site-packages (from requests-oauthlib>=0.7.0->google-auth-oauthlib<2,>=0.5->tensorboard<2.16,>=2.15->tensorflow-intel==2.15.0->tensorflow) (3.2.2)\n",
      "Note: you may need to restart the kernel to use updated packages.\n"
     ]
    }
   ],
   "source": [
    "pip install tensorflow"
   ]
  },
  {
   "cell_type": "code",
   "execution_count": 24,
   "metadata": {},
   "outputs": [
    {
     "name": "stdout",
     "output_type": "stream",
     "text": [
      "WARNING:tensorflow:From C:\\Users\\thong\\anaconda3\\lib\\site-packages\\keras\\src\\losses.py:2976: The name tf.losses.sparse_softmax_cross_entropy is deprecated. Please use tf.compat.v1.losses.sparse_softmax_cross_entropy instead.\n",
      "\n"
     ]
    },
    {
     "data": {
      "text/html": [
       "<div>\n",
       "<style scoped>\n",
       "    .dataframe tbody tr th:only-of-type {\n",
       "        vertical-align: middle;\n",
       "    }\n",
       "\n",
       "    .dataframe tbody tr th {\n",
       "        vertical-align: top;\n",
       "    }\n",
       "\n",
       "    .dataframe thead th {\n",
       "        text-align: right;\n",
       "    }\n",
       "</style>\n",
       "<table border=\"1\" class=\"dataframe\">\n",
       "  <thead>\n",
       "    <tr style=\"text-align: right;\">\n",
       "      <th></th>\n",
       "      <th>EIN</th>\n",
       "      <th>NAME</th>\n",
       "      <th>APPLICATION_TYPE</th>\n",
       "      <th>AFFILIATION</th>\n",
       "      <th>CLASSIFICATION</th>\n",
       "      <th>USE_CASE</th>\n",
       "      <th>ORGANIZATION</th>\n",
       "      <th>STATUS</th>\n",
       "      <th>INCOME_AMT</th>\n",
       "      <th>SPECIAL_CONSIDERATIONS</th>\n",
       "      <th>ASK_AMT</th>\n",
       "      <th>IS_SUCCESSFUL</th>\n",
       "    </tr>\n",
       "  </thead>\n",
       "  <tbody>\n",
       "    <tr>\n",
       "      <th>0</th>\n",
       "      <td>10520599</td>\n",
       "      <td>BLUE KNIGHTS MOTORCYCLE CLUB</td>\n",
       "      <td>T10</td>\n",
       "      <td>Independent</td>\n",
       "      <td>C1000</td>\n",
       "      <td>ProductDev</td>\n",
       "      <td>Association</td>\n",
       "      <td>1</td>\n",
       "      <td>0</td>\n",
       "      <td>N</td>\n",
       "      <td>5000</td>\n",
       "      <td>1</td>\n",
       "    </tr>\n",
       "    <tr>\n",
       "      <th>1</th>\n",
       "      <td>10531628</td>\n",
       "      <td>AMERICAN CHESAPEAKE CLUB CHARITABLE TR</td>\n",
       "      <td>T3</td>\n",
       "      <td>Independent</td>\n",
       "      <td>C2000</td>\n",
       "      <td>Preservation</td>\n",
       "      <td>Co-operative</td>\n",
       "      <td>1</td>\n",
       "      <td>1-9999</td>\n",
       "      <td>N</td>\n",
       "      <td>108590</td>\n",
       "      <td>1</td>\n",
       "    </tr>\n",
       "    <tr>\n",
       "      <th>2</th>\n",
       "      <td>10547893</td>\n",
       "      <td>ST CLOUD PROFESSIONAL FIREFIGHTERS</td>\n",
       "      <td>T5</td>\n",
       "      <td>CompanySponsored</td>\n",
       "      <td>C3000</td>\n",
       "      <td>ProductDev</td>\n",
       "      <td>Association</td>\n",
       "      <td>1</td>\n",
       "      <td>0</td>\n",
       "      <td>N</td>\n",
       "      <td>5000</td>\n",
       "      <td>0</td>\n",
       "    </tr>\n",
       "    <tr>\n",
       "      <th>3</th>\n",
       "      <td>10553066</td>\n",
       "      <td>SOUTHSIDE ATHLETIC ASSOCIATION</td>\n",
       "      <td>T3</td>\n",
       "      <td>CompanySponsored</td>\n",
       "      <td>C2000</td>\n",
       "      <td>Preservation</td>\n",
       "      <td>Trust</td>\n",
       "      <td>1</td>\n",
       "      <td>10000-24999</td>\n",
       "      <td>N</td>\n",
       "      <td>6692</td>\n",
       "      <td>1</td>\n",
       "    </tr>\n",
       "    <tr>\n",
       "      <th>4</th>\n",
       "      <td>10556103</td>\n",
       "      <td>GENETIC RESEARCH INSTITUTE OF THE DESERT</td>\n",
       "      <td>T3</td>\n",
       "      <td>Independent</td>\n",
       "      <td>C1000</td>\n",
       "      <td>Heathcare</td>\n",
       "      <td>Trust</td>\n",
       "      <td>1</td>\n",
       "      <td>100000-499999</td>\n",
       "      <td>N</td>\n",
       "      <td>142590</td>\n",
       "      <td>1</td>\n",
       "    </tr>\n",
       "  </tbody>\n",
       "</table>\n",
       "</div>"
      ],
      "text/plain": [
       "        EIN                                      NAME APPLICATION_TYPE  \\\n",
       "0  10520599              BLUE KNIGHTS MOTORCYCLE CLUB              T10   \n",
       "1  10531628    AMERICAN CHESAPEAKE CLUB CHARITABLE TR               T3   \n",
       "2  10547893        ST CLOUD PROFESSIONAL FIREFIGHTERS               T5   \n",
       "3  10553066            SOUTHSIDE ATHLETIC ASSOCIATION               T3   \n",
       "4  10556103  GENETIC RESEARCH INSTITUTE OF THE DESERT               T3   \n",
       "\n",
       "        AFFILIATION CLASSIFICATION      USE_CASE  ORGANIZATION  STATUS  \\\n",
       "0       Independent          C1000    ProductDev   Association       1   \n",
       "1       Independent          C2000  Preservation  Co-operative       1   \n",
       "2  CompanySponsored          C3000    ProductDev   Association       1   \n",
       "3  CompanySponsored          C2000  Preservation         Trust       1   \n",
       "4       Independent          C1000     Heathcare         Trust       1   \n",
       "\n",
       "      INCOME_AMT SPECIAL_CONSIDERATIONS  ASK_AMT  IS_SUCCESSFUL  \n",
       "0              0                      N     5000              1  \n",
       "1         1-9999                      N   108590              1  \n",
       "2              0                      N     5000              0  \n",
       "3    10000-24999                      N     6692              1  \n",
       "4  100000-499999                      N   142590              1  "
      ]
     },
     "execution_count": 24,
     "metadata": {},
     "output_type": "execute_result"
    }
   ],
   "source": [
    "# Import our dependencies\n",
    "from sklearn.model_selection import train_test_split\n",
    "from sklearn.preprocessing import StandardScaler\n",
    "import pandas as pd\n",
    "import tensorflow as tf\n",
    "\n",
    "#  Import and read the charity_data.csv.\n",
    "import pandas as pd\n",
    "application_df = pd.read_csv(\"https://static.bc-edx.com/data/dl-1-2/m21/lms/starter/charity_data.csv\")\n",
    "application_df.head()"
   ]
  },
  {
   "cell_type": "code",
   "execution_count": 25,
   "metadata": {},
   "outputs": [
    {
     "name": "stderr",
     "output_type": "stream",
     "text": [
      "C:\\Users\\thong\\AppData\\Local\\Temp\\ipykernel_16152\\521640425.py:3: FutureWarning: In a future version of pandas all arguments of DataFrame.drop except for the argument 'labels' will be keyword-only.\n",
      "  application_df = application_df.drop([\"EIN\"],1)\n"
     ]
    }
   ],
   "source": [
    "# Drop the non-beneficial ID columns\n",
    "\n",
    "application_df = application_df.drop([\"EIN\"],1)"
   ]
  },
  {
   "cell_type": "code",
   "execution_count": 26,
   "metadata": {},
   "outputs": [
    {
     "data": {
      "text/plain": [
       "NAME                      19568\n",
       "APPLICATION_TYPE             17\n",
       "AFFILIATION                   6\n",
       "CLASSIFICATION               71\n",
       "USE_CASE                      5\n",
       "ORGANIZATION                  4\n",
       "STATUS                        2\n",
       "INCOME_AMT                    9\n",
       "SPECIAL_CONSIDERATIONS        2\n",
       "ASK_AMT                    8747\n",
       "IS_SUCCESSFUL                 2\n",
       "dtype: int64"
      ]
     },
     "execution_count": 26,
     "metadata": {},
     "output_type": "execute_result"
    }
   ],
   "source": [
    "application_df.nunique()"
   ]
  },
  {
   "cell_type": "code",
   "execution_count": 27,
   "metadata": {},
   "outputs": [
    {
     "data": {
      "text/plain": [
       "PARENT BOOSTER USA INC                             1260\n",
       "TOPS CLUB INC                                       765\n",
       "UNITED STATES BOWLING CONGRESS INC                  700\n",
       "WASHINGTON STATE UNIVERSITY                         492\n",
       "AMATEUR ATHLETIC UNION OF THE UNITED STATES INC     408\n",
       "                                                   ... \n",
       "OLD OAK CLIFF CONSERVATION LEAGUE INC                 6\n",
       "AMERICAN NEPHROLOGY NURSES ASSOCIATION                6\n",
       "HUMBLE ISD EDUCATIONAL SUPPORT GROUPS INC             6\n",
       "PROFESSIONAL LOADMASTER ASSOCIATION                   6\n",
       "CBMC INC                                              6\n",
       "Name: NAME, Length: 354, dtype: int64"
      ]
     },
     "execution_count": 27,
     "metadata": {},
     "output_type": "execute_result"
    }
   ],
   "source": [
    "# Look at NAME value counts for binning\n",
    "name_counts = application_df['NAME'].value_counts()\n",
    "#  How many name counts are greater than 5?\n",
    "name_counts[name_counts>5]"
   ]
  },
  {
   "cell_type": "code",
   "execution_count": 28,
   "metadata": {},
   "outputs": [
    {
     "data": {
      "text/plain": [
       "Other                                           20043\n",
       "PARENT BOOSTER USA INC                           1260\n",
       "TOPS CLUB INC                                     765\n",
       "UNITED STATES BOWLING CONGRESS INC                700\n",
       "WASHINGTON STATE UNIVERSITY                       492\n",
       "                                                ...  \n",
       "HABITAT FOR HUMANITY INTERNATIONAL                  6\n",
       "DAMAGE PREVENTION COUNCIL OF TEXAS                  6\n",
       "FLEET RESERVE ASSOCIATION                           6\n",
       "HUGH OBRIAN YOUTH LEADERSHIP                        6\n",
       "INTERNATIONAL CONGRESS OF CHURCHES MINISTERS        6\n",
       "Name: NAME, Length: 355, dtype: int64"
      ]
     },
     "execution_count": 28,
     "metadata": {},
     "output_type": "execute_result"
    }
   ],
   "source": [
    "# Determine which values to replace if counts are less than or equal to 5.\n",
    "names_to_replace = list(name_counts[name_counts <= 5].index)\n",
    "\n",
    "# Replace in dataframe\n",
    "for app in names_to_replace:\n",
    "    application_df['NAME'] = application_df['NAME'].replace(app,\"Other\")\n",
    "\n",
    "# Check to make sure binning was successful\n",
    "application_df['NAME'].value_counts()"
   ]
  },
  {
   "cell_type": "code",
   "execution_count": 29,
   "metadata": {},
   "outputs": [
    {
     "data": {
      "text/plain": [
       "T3     27037\n",
       "T4      1542\n",
       "T6      1216\n",
       "T5      1173\n",
       "T19     1065\n",
       "T8       737\n",
       "T7       725\n",
       "T10      528\n",
       "T9       156\n",
       "T13       66\n",
       "T12       27\n",
       "T2        16\n",
       "T25        3\n",
       "T14        3\n",
       "T29        2\n",
       "T15        2\n",
       "T17        1\n",
       "Name: APPLICATION_TYPE, dtype: int64"
      ]
     },
     "execution_count": 29,
     "metadata": {},
     "output_type": "execute_result"
    }
   ],
   "source": [
    "# Look at APPLICATION_TYPE value counts for binning\n",
    "application_counts = application_df['APPLICATION_TYPE'].value_counts()\n",
    "application_counts"
   ]
  },
  {
   "cell_type": "code",
   "execution_count": 30,
   "metadata": {},
   "outputs": [
    {
     "data": {
      "text/plain": [
       "T3       27037\n",
       "T4        1542\n",
       "T6        1216\n",
       "T5        1173\n",
       "T19       1065\n",
       "T8         737\n",
       "T7         725\n",
       "T10        528\n",
       "Other      276\n",
       "Name: APPLICATION_TYPE, dtype: int64"
      ]
     },
     "execution_count": 30,
     "metadata": {},
     "output_type": "execute_result"
    }
   ],
   "source": [
    "application_types_to_replace = list(application_counts[application_counts < 500].index)\n",
    "\n",
    "# Replace in dataframe\n",
    "for app in application_types_to_replace:\n",
    "    application_df['APPLICATION_TYPE'] = application_df['APPLICATION_TYPE'].replace(app,\"Other\")\n",
    "\n",
    "# Check to make sure binning was successful\n",
    "application_df['APPLICATION_TYPE'].value_counts()"
   ]
  },
  {
   "cell_type": "code",
   "execution_count": 31,
   "metadata": {},
   "outputs": [
    {
     "data": {
      "text/plain": [
       "C1000    17326\n",
       "C2000     6074\n",
       "C1200     4837\n",
       "C3000     1918\n",
       "C2100     1883\n",
       "         ...  \n",
       "C4120        1\n",
       "C8210        1\n",
       "C2561        1\n",
       "C4500        1\n",
       "C2150        1\n",
       "Name: CLASSIFICATION, Length: 71, dtype: int64"
      ]
     },
     "execution_count": 31,
     "metadata": {},
     "output_type": "execute_result"
    }
   ],
   "source": [
    "# Look at CLASSIFICATION value counts for binning\n",
    "class_counts = application_df['CLASSIFICATION'].value_counts()\n",
    "class_counts"
   ]
  },
  {
   "cell_type": "code",
   "execution_count": 32,
   "metadata": {},
   "outputs": [
    {
     "data": {
      "text/plain": [
       "C1000    17326\n",
       "C2000     6074\n",
       "C1200     4837\n",
       "Other     2261\n",
       "C3000     1918\n",
       "C2100     1883\n",
       "Name: CLASSIFICATION, dtype: int64"
      ]
     },
     "execution_count": 32,
     "metadata": {},
     "output_type": "execute_result"
    }
   ],
   "source": [
    "# Determine which values to replace if counts are less than 1000\n",
    "classes_to_replace = list(class_counts[class_counts < 1000].index)\n",
    "\n",
    "# Replace in dataframe\n",
    "for cls in classes_to_replace:\n",
    "    application_df['CLASSIFICATION'] = application_df['CLASSIFICATION'].replace(cls,\"Other\")\n",
    "\n",
    "# Check to make sure binning was successful\n",
    "application_df['CLASSIFICATION'].value_counts()"
   ]
  },
  {
   "cell_type": "code",
   "execution_count": 33,
   "metadata": {},
   "outputs": [],
   "source": [
    "# Generate our categorical variable lists\n",
    "application_cat = application_df.dtypes[application_df.dtypes == \"object\"].index.tolist()"
   ]
  },
  {
   "cell_type": "code",
   "execution_count": 34,
   "metadata": {},
   "outputs": [],
   "source": [
    "application_with_dummies_df = pd.get_dummies(application_df)"
   ]
  },
  {
   "cell_type": "code",
   "execution_count": 35,
   "metadata": {},
   "outputs": [],
   "source": [
    "# Split our preprocessed data into our features and target arrays\n",
    "X = application_with_dummies_df.drop([\"IS_SUCCESSFUL\"], axis='columns').values\n",
    "y = application_with_dummies_df[\"IS_SUCCESSFUL\"].values\n",
    "\n",
    "# Split the preprocessed data into a training and testing dataset\n",
    "X_train, X_test, y_train, y_test = train_test_split(X, y, random_state=78)"
   ]
  },
  {
   "cell_type": "code",
   "execution_count": 36,
   "metadata": {},
   "outputs": [],
   "source": [
    "# Create a StandardScaler instances\n",
    "scaler = StandardScaler()\n",
    "\n",
    "# Fit the StandardScaler\n",
    "X_scaler = scaler.fit(X_train)\n",
    "\n",
    "# Scale the data\n",
    "X_train_scaled = X_scaler.transform(X_train)\n",
    "X_test_scaled = X_scaler.transform(X_test)"
   ]
  },
  {
   "cell_type": "code",
   "execution_count": 37,
   "metadata": {},
   "outputs": [
    {
     "name": "stdout",
     "output_type": "stream",
     "text": [
      "WARNING:tensorflow:From C:\\Users\\thong\\anaconda3\\lib\\site-packages\\keras\\src\\backend.py:873: The name tf.get_default_graph is deprecated. Please use tf.compat.v1.get_default_graph instead.\n",
      "\n",
      "Model: \"sequential\"\n",
      "_________________________________________________________________\n",
      " Layer (type)                Output Shape              Param #   \n",
      "=================================================================\n",
      " dense (Dense)               (None, 100)               39900     \n",
      "                                                                 \n",
      " dense_1 (Dense)             (None, 30)                3030      \n",
      "                                                                 \n",
      " dense_2 (Dense)             (None, 10)                310       \n",
      "                                                                 \n",
      " dense_3 (Dense)             (None, 1)                 11        \n",
      "                                                                 \n",
      "=================================================================\n",
      "Total params: 43251 (168.95 KB)\n",
      "Trainable params: 43251 (168.95 KB)\n",
      "Non-trainable params: 0 (0.00 Byte)\n",
      "_________________________________________________________________\n"
     ]
    }
   ],
   "source": [
    "# Define the model - deep neural net\n",
    "number_input_features = len(X_train[0])\n",
    "hidden_nodes_layer1 =  100\n",
    "hidden_nodes_layer2 = 30\n",
    "hidden_nodes_layer3 = 10\n",
    "\n",
    "nn = tf.keras.models.Sequential()\n",
    "\n",
    "# First hidden layer\n",
    "nn.add(\n",
    "    tf.keras.layers.Dense(units=hidden_nodes_layer1, input_dim=number_input_features, activation=\"relu\")\n",
    ")\n",
    "\n",
    "# Second hidden layer\n",
    "nn.add(tf.keras.layers.Dense(units=hidden_nodes_layer2, activation=\"sigmoid\"))\n",
    "\n",
    "# Third hidden layer\n",
    "nn.add(tf.keras.layers.Dense(units=hidden_nodes_layer3, activation=\"sigmoid\"))\n",
    "\n",
    "# Output layer\n",
    "nn.add(tf.keras.layers.Dense(units=1, activation=\"sigmoid\"))\n",
    "\n",
    "# Check the structure of the model\n",
    "nn.summary()"
   ]
  },
  {
   "cell_type": "code",
   "execution_count": 38,
   "metadata": {},
   "outputs": [
    {
     "name": "stdout",
     "output_type": "stream",
     "text": [
      "WARNING:tensorflow:From C:\\Users\\thong\\anaconda3\\lib\\site-packages\\keras\\src\\optimizers\\__init__.py:309: The name tf.train.Optimizer is deprecated. Please use tf.compat.v1.train.Optimizer instead.\n",
      "\n"
     ]
    }
   ],
   "source": [
    "# Compile the model\n",
    "nn.compile(loss=\"binary_crossentropy\", optimizer=\"adam\", metrics=[\"accuracy\"])"
   ]
  },
  {
   "cell_type": "code",
   "execution_count": 39,
   "metadata": {},
   "outputs": [
    {
     "name": "stdout",
     "output_type": "stream",
     "text": [
      "Epoch 1/100\n",
      "WARNING:tensorflow:From C:\\Users\\thong\\anaconda3\\lib\\site-packages\\keras\\src\\utils\\tf_utils.py:492: The name tf.ragged.RaggedTensorValue is deprecated. Please use tf.compat.v1.ragged.RaggedTensorValue instead.\n",
      "\n",
      "WARNING:tensorflow:From C:\\Users\\thong\\anaconda3\\lib\\site-packages\\keras\\src\\engine\\base_layer_utils.py:384: The name tf.executing_eagerly_outside_functions is deprecated. Please use tf.compat.v1.executing_eagerly_outside_functions instead.\n",
      "\n",
      "804/804 [==============================] - 1s 921us/step - loss: 0.5054 - accuracy: 0.7739\n",
      "Epoch 2/100\n",
      "804/804 [==============================] - 1s 887us/step - loss: 0.4460 - accuracy: 0.7933\n",
      "Epoch 3/100\n",
      "804/804 [==============================] - 1s 897us/step - loss: 0.4358 - accuracy: 0.7960\n",
      "Epoch 4/100\n",
      "804/804 [==============================] - 1s 873us/step - loss: 0.4306 - accuracy: 0.7960\n",
      "Epoch 5/100\n",
      "804/804 [==============================] - 1s 902us/step - loss: 0.4281 - accuracy: 0.7974\n",
      "Epoch 6/100\n",
      "804/804 [==============================] - 1s 917us/step - loss: 0.4255 - accuracy: 0.7973\n",
      "Epoch 7/100\n",
      "804/804 [==============================] - 1s 865us/step - loss: 0.4240 - accuracy: 0.7990\n",
      "Epoch 8/100\n",
      "804/804 [==============================] - 1s 919us/step - loss: 0.4227 - accuracy: 0.7999\n",
      "Epoch 9/100\n",
      "804/804 [==============================] - 1s 913us/step - loss: 0.4208 - accuracy: 0.7995\n",
      "Epoch 10/100\n",
      "804/804 [==============================] - 1s 847us/step - loss: 0.4204 - accuracy: 0.7994\n",
      "Epoch 11/100\n",
      "804/804 [==============================] - 1s 886us/step - loss: 0.4197 - accuracy: 0.7994\n",
      "Epoch 12/100\n",
      "804/804 [==============================] - 1s 899us/step - loss: 0.4188 - accuracy: 0.8004\n",
      "Epoch 13/100\n",
      "804/804 [==============================] - 1s 855us/step - loss: 0.4185 - accuracy: 0.8003\n",
      "Epoch 14/100\n",
      "804/804 [==============================] - 1s 908us/step - loss: 0.4172 - accuracy: 0.8003\n",
      "Epoch 15/100\n",
      "804/804 [==============================] - 1s 890us/step - loss: 0.4168 - accuracy: 0.8014\n",
      "Epoch 16/100\n",
      "804/804 [==============================] - 1s 908us/step - loss: 0.4159 - accuracy: 0.8029\n",
      "Epoch 17/100\n",
      "804/804 [==============================] - 1s 921us/step - loss: 0.4156 - accuracy: 0.8014\n",
      "Epoch 18/100\n",
      "804/804 [==============================] - 1s 921us/step - loss: 0.4153 - accuracy: 0.8019\n",
      "Epoch 19/100\n",
      "804/804 [==============================] - 1s 898us/step - loss: 0.4145 - accuracy: 0.8023\n",
      "Epoch 20/100\n",
      "804/804 [==============================] - 1s 854us/step - loss: 0.4138 - accuracy: 0.8034\n",
      "Epoch 21/100\n",
      "804/804 [==============================] - 1s 888us/step - loss: 0.4136 - accuracy: 0.8029\n",
      "Epoch 22/100\n",
      "804/804 [==============================] - 1s 891us/step - loss: 0.4133 - accuracy: 0.8030\n",
      "Epoch 23/100\n",
      "804/804 [==============================] - 1s 906us/step - loss: 0.4128 - accuracy: 0.8029\n",
      "Epoch 24/100\n",
      "804/804 [==============================] - 1s 949us/step - loss: 0.4120 - accuracy: 0.8035\n",
      "Epoch 25/100\n",
      "804/804 [==============================] - 1s 921us/step - loss: 0.4115 - accuracy: 0.8045\n",
      "Epoch 26/100\n",
      "804/804 [==============================] - 1s 950us/step - loss: 0.4117 - accuracy: 0.8038\n",
      "Epoch 27/100\n",
      "804/804 [==============================] - 1s 936us/step - loss: 0.4111 - accuracy: 0.8044\n",
      "Epoch 28/100\n",
      "804/804 [==============================] - 1s 920us/step - loss: 0.4107 - accuracy: 0.8048\n",
      "Epoch 29/100\n",
      "804/804 [==============================] - 1s 948us/step - loss: 0.4106 - accuracy: 0.8045\n",
      "Epoch 30/100\n",
      "804/804 [==============================] - 1s 930us/step - loss: 0.4101 - accuracy: 0.8039\n",
      "Epoch 31/100\n",
      "804/804 [==============================] - 1s 935us/step - loss: 0.4098 - accuracy: 0.8050\n",
      "Epoch 32/100\n",
      "804/804 [==============================] - 1s 950us/step - loss: 0.4091 - accuracy: 0.8061\n",
      "Epoch 33/100\n",
      "804/804 [==============================] - 1s 917us/step - loss: 0.4089 - accuracy: 0.8059\n",
      "Epoch 34/100\n",
      "804/804 [==============================] - 1s 946us/step - loss: 0.4088 - accuracy: 0.8040\n",
      "Epoch 35/100\n",
      "804/804 [==============================] - 1s 956us/step - loss: 0.4084 - accuracy: 0.8053\n",
      "Epoch 36/100\n",
      "804/804 [==============================] - 1s 930us/step - loss: 0.4082 - accuracy: 0.8053\n",
      "Epoch 37/100\n",
      "804/804 [==============================] - 1s 931us/step - loss: 0.4081 - accuracy: 0.8052\n",
      "Epoch 38/100\n",
      "804/804 [==============================] - 1s 909us/step - loss: 0.4077 - accuracy: 0.8061\n",
      "Epoch 39/100\n",
      "804/804 [==============================] - 1s 904us/step - loss: 0.4079 - accuracy: 0.8053\n",
      "Epoch 40/100\n",
      "804/804 [==============================] - 1s 901us/step - loss: 0.4072 - accuracy: 0.8054\n",
      "Epoch 41/100\n",
      "804/804 [==============================] - 1s 914us/step - loss: 0.4068 - accuracy: 0.8060\n",
      "Epoch 42/100\n",
      "804/804 [==============================] - 1s 918us/step - loss: 0.4066 - accuracy: 0.8056\n",
      "Epoch 43/100\n",
      "804/804 [==============================] - 1s 946us/step - loss: 0.4069 - accuracy: 0.8063\n",
      "Epoch 44/100\n",
      "804/804 [==============================] - 1s 925us/step - loss: 0.4064 - accuracy: 0.8056\n",
      "Epoch 45/100\n",
      "804/804 [==============================] - 1s 935us/step - loss: 0.4061 - accuracy: 0.8061\n",
      "Epoch 46/100\n",
      "804/804 [==============================] - 1s 904us/step - loss: 0.4056 - accuracy: 0.8071\n",
      "Epoch 47/100\n",
      "804/804 [==============================] - 1s 875us/step - loss: 0.4061 - accuracy: 0.8068\n",
      "Epoch 48/100\n",
      "804/804 [==============================] - 1s 844us/step - loss: 0.4058 - accuracy: 0.8054\n",
      "Epoch 49/100\n",
      "804/804 [==============================] - 1s 846us/step - loss: 0.4056 - accuracy: 0.8053\n",
      "Epoch 50/100\n",
      "804/804 [==============================] - 1s 828us/step - loss: 0.4051 - accuracy: 0.8072\n",
      "Epoch 51/100\n",
      "804/804 [==============================] - 1s 825us/step - loss: 0.4051 - accuracy: 0.8068\n",
      "Epoch 52/100\n",
      "804/804 [==============================] - 1s 839us/step - loss: 0.4050 - accuracy: 0.8063\n",
      "Epoch 53/100\n",
      "804/804 [==============================] - 1s 845us/step - loss: 0.4047 - accuracy: 0.8061\n",
      "Epoch 54/100\n",
      "804/804 [==============================] - 1s 837us/step - loss: 0.4047 - accuracy: 0.8059\n",
      "Epoch 55/100\n",
      "804/804 [==============================] - 1s 827us/step - loss: 0.4049 - accuracy: 0.8064\n",
      "Epoch 56/100\n",
      "804/804 [==============================] - 1s 828us/step - loss: 0.4046 - accuracy: 0.8068\n",
      "Epoch 57/100\n",
      "804/804 [==============================] - 1s 830us/step - loss: 0.4042 - accuracy: 0.8071\n",
      "Epoch 58/100\n",
      "804/804 [==============================] - 1s 831us/step - loss: 0.4045 - accuracy: 0.8068\n",
      "Epoch 59/100\n",
      "804/804 [==============================] - 1s 833us/step - loss: 0.4041 - accuracy: 0.8067\n",
      "Epoch 60/100\n",
      "804/804 [==============================] - 1s 843us/step - loss: 0.4039 - accuracy: 0.8074\n",
      "Epoch 61/100\n",
      "804/804 [==============================] - 1s 829us/step - loss: 0.4039 - accuracy: 0.8059\n",
      "Epoch 62/100\n",
      "804/804 [==============================] - 1s 838us/step - loss: 0.4036 - accuracy: 0.8061\n",
      "Epoch 63/100\n",
      "804/804 [==============================] - 1s 851us/step - loss: 0.4035 - accuracy: 0.8075\n",
      "Epoch 64/100\n",
      "804/804 [==============================] - 1s 847us/step - loss: 0.4036 - accuracy: 0.8080\n",
      "Epoch 65/100\n",
      "804/804 [==============================] - 1s 845us/step - loss: 0.4037 - accuracy: 0.8072\n",
      "Epoch 66/100\n",
      "804/804 [==============================] - 1s 831us/step - loss: 0.4034 - accuracy: 0.8071\n",
      "Epoch 67/100\n",
      "804/804 [==============================] - 1s 826us/step - loss: 0.4035 - accuracy: 0.8075\n",
      "Epoch 68/100\n",
      "804/804 [==============================] - 1s 838us/step - loss: 0.4033 - accuracy: 0.8077\n",
      "Epoch 69/100\n",
      "804/804 [==============================] - 1s 841us/step - loss: 0.4033 - accuracy: 0.8075\n",
      "Epoch 70/100\n",
      "804/804 [==============================] - 1s 830us/step - loss: 0.4031 - accuracy: 0.8076\n",
      "Epoch 71/100\n",
      "804/804 [==============================] - 1s 832us/step - loss: 0.4029 - accuracy: 0.8075\n",
      "Epoch 72/100\n",
      "804/804 [==============================] - 1s 838us/step - loss: 0.4031 - accuracy: 0.8075\n",
      "Epoch 73/100\n",
      "804/804 [==============================] - 1s 823us/step - loss: 0.4032 - accuracy: 0.8084\n",
      "Epoch 74/100\n",
      "804/804 [==============================] - 1s 840us/step - loss: 0.4031 - accuracy: 0.8068\n",
      "Epoch 75/100\n"
     ]
    },
    {
     "name": "stdout",
     "output_type": "stream",
     "text": [
      "804/804 [==============================] - 1s 839us/step - loss: 0.4028 - accuracy: 0.8076\n",
      "Epoch 76/100\n",
      "804/804 [==============================] - 1s 826us/step - loss: 0.4029 - accuracy: 0.8081\n",
      "Epoch 77/100\n",
      "804/804 [==============================] - 1s 821us/step - loss: 0.4027 - accuracy: 0.8082\n",
      "Epoch 78/100\n",
      "804/804 [==============================] - 1s 826us/step - loss: 0.4027 - accuracy: 0.8085\n",
      "Epoch 79/100\n",
      "804/804 [==============================] - 1s 825us/step - loss: 0.4027 - accuracy: 0.8077\n",
      "Epoch 80/100\n",
      "804/804 [==============================] - 1s 814us/step - loss: 0.4022 - accuracy: 0.8078\n",
      "Epoch 81/100\n",
      "804/804 [==============================] - 1s 825us/step - loss: 0.4026 - accuracy: 0.8085\n",
      "Epoch 82/100\n",
      "804/804 [==============================] - 1s 822us/step - loss: 0.4025 - accuracy: 0.8076\n",
      "Epoch 83/100\n",
      "804/804 [==============================] - 1s 829us/step - loss: 0.4027 - accuracy: 0.8081\n",
      "Epoch 84/100\n",
      "804/804 [==============================] - 1s 817us/step - loss: 0.4023 - accuracy: 0.8080\n",
      "Epoch 85/100\n",
      "804/804 [==============================] - 1s 830us/step - loss: 0.4026 - accuracy: 0.8075\n",
      "Epoch 86/100\n",
      "804/804 [==============================] - 1s 822us/step - loss: 0.4023 - accuracy: 0.8081\n",
      "Epoch 87/100\n",
      "804/804 [==============================] - 1s 822us/step - loss: 0.4025 - accuracy: 0.8078\n",
      "Epoch 88/100\n",
      "804/804 [==============================] - 1s 825us/step - loss: 0.4024 - accuracy: 0.8082\n",
      "Epoch 89/100\n",
      "804/804 [==============================] - 1s 832us/step - loss: 0.4022 - accuracy: 0.8077\n",
      "Epoch 90/100\n",
      "804/804 [==============================] - 1s 831us/step - loss: 0.4027 - accuracy: 0.8079\n",
      "Epoch 91/100\n",
      "804/804 [==============================] - 1s 835us/step - loss: 0.4027 - accuracy: 0.8081\n",
      "Epoch 92/100\n",
      "804/804 [==============================] - 1s 826us/step - loss: 0.4022 - accuracy: 0.8081\n",
      "Epoch 93/100\n",
      "804/804 [==============================] - 1s 822us/step - loss: 0.4027 - accuracy: 0.8084\n",
      "Epoch 94/100\n",
      "804/804 [==============================] - 1s 821us/step - loss: 0.4023 - accuracy: 0.8078\n",
      "Epoch 95/100\n",
      "804/804 [==============================] - 1s 823us/step - loss: 0.4024 - accuracy: 0.8084\n",
      "Epoch 96/100\n",
      "804/804 [==============================] - 1s 814us/step - loss: 0.4023 - accuracy: 0.8085\n",
      "Epoch 97/100\n",
      "804/804 [==============================] - 1s 819us/step - loss: 0.4020 - accuracy: 0.8080\n",
      "Epoch 98/100\n",
      "804/804 [==============================] - 1s 831us/step - loss: 0.4023 - accuracy: 0.8081\n",
      "Epoch 99/100\n",
      "804/804 [==============================] - 1s 819us/step - loss: 0.4021 - accuracy: 0.8084\n",
      "Epoch 100/100\n",
      "804/804 [==============================] - 1s 837us/step - loss: 0.4020 - accuracy: 0.8082\n"
     ]
    }
   ],
   "source": [
    "# Train the model\n",
    "fit_model = nn.fit(X_train_scaled,y_train,epochs=100)"
   ]
  },
  {
   "cell_type": "code",
   "execution_count": 40,
   "metadata": {},
   "outputs": [
    {
     "name": "stdout",
     "output_type": "stream",
     "text": [
      "268/268 - 0s - loss: 0.4456 - accuracy: 0.7900 - 256ms/epoch - 956us/step\n",
      "Loss: 0.445619136095047, Accuracy: 0.789970874786377\n"
     ]
    }
   ],
   "source": [
    "# Evaluate the model using the test data\n",
    "model_loss, model_accuracy = nn.evaluate(X_test_scaled,y_test,verbose=2)\n",
    "print(f\"Loss: {model_loss}, Accuracy: {model_accuracy}\")"
   ]
  },
  {
   "cell_type": "code",
   "execution_count": 41,
   "metadata": {},
   "outputs": [
    {
     "name": "stderr",
     "output_type": "stream",
     "text": [
      "C:\\Users\\thong\\anaconda3\\lib\\site-packages\\keras\\src\\engine\\training.py:3103: UserWarning: You are saving your model as an HDF5 file via `model.save()`. This file format is considered legacy. We recommend using instead the native Keras format, e.g. `model.save('my_model.keras')`.\n",
      "  saving_api.save_model(\n"
     ]
    }
   ],
   "source": [
    "# Export our model to HDF5 file\n",
    "nn.save(\"AlphabetSoupCharity_Optimization.h5\")"
   ]
  },
  {
   "cell_type": "markdown",
   "metadata": {},
   "source": [
    "## Compile, Train and Evaluate the Model"
   ]
  },
  {
   "cell_type": "code",
   "execution_count": 42,
   "metadata": {},
   "outputs": [],
   "source": [
    "# Convert categorical data to numeric with `pd.get_dummies`\n",
    "application_df_dummies = pd.get_dummies(application_df)"
   ]
  },
  {
   "cell_type": "code",
   "execution_count": 43,
   "metadata": {},
   "outputs": [],
   "source": [
    "# Split our preprocessed data into our features and target arrays\n",
    "X = application_df_dummies.drop([\"IS_SUCCESSFUL\"], axis='columns').values\n",
    "y = application_df_dummies[\"IS_SUCCESSFUL\"].values\n",
    "\n",
    "# Split the preprocessed data into a training and testing dataset\n",
    "X_train, X_test, y_train, y_test = train_test_split(X, y, random_state=1)"
   ]
  },
  {
   "cell_type": "code",
   "execution_count": 44,
   "metadata": {},
   "outputs": [],
   "source": [
    "# Create a StandardScaler instances\n",
    "scaler = StandardScaler()\n",
    "\n",
    "# Fit the StandardScaler\n",
    "X_scaler = scaler.fit(X_train)\n",
    "\n",
    "# Scale the data\n",
    "X_train_scaled = X_scaler.transform(X_train)\n",
    "X_test_scaled = X_scaler.transform(X_test)"
   ]
  },
  {
   "cell_type": "code",
   "execution_count": 45,
   "metadata": {},
   "outputs": [
    {
     "name": "stdout",
     "output_type": "stream",
     "text": [
      "Model: \"sequential_1\"\n",
      "_________________________________________________________________\n",
      " Layer (type)                Output Shape              Param #   \n",
      "=================================================================\n",
      " dense_4 (Dense)             (None, 100)               39900     \n",
      "                                                                 \n",
      " dense_5 (Dense)             (None, 30)                3030      \n",
      "                                                                 \n",
      " dense_6 (Dense)             (None, 1)                 31        \n",
      "                                                                 \n",
      "=================================================================\n",
      "Total params: 42961 (167.82 KB)\n",
      "Trainable params: 42961 (167.82 KB)\n",
      "Non-trainable params: 0 (0.00 Byte)\n",
      "_________________________________________________________________\n"
     ]
    }
   ],
   "source": [
    "# Define the model - deep neural net\n",
    "number_input_features = len(X_train[0])\n",
    "hidden_nodes_layer1 =  100\n",
    "hidden_nodes_layer2 = 30\n",
    "\n",
    "nn = tf.keras.models.Sequential()\n",
    "\n",
    "# First hidden layer\n",
    "nn.add(\n",
    "    tf.keras.layers.Dense(units=hidden_nodes_layer1, input_dim=number_input_features, activation=\"relu\")\n",
    ")\n",
    "\n",
    "# Second hidden layer\n",
    "nn.add(tf.keras.layers.Dense(units=hidden_nodes_layer2, activation=\"relu\"))\n",
    "\n",
    "# Output layer\n",
    "nn.add(tf.keras.layers.Dense(units=1, activation=\"sigmoid\"))\n",
    "\n",
    "# Check the structure of the model\n",
    "nn.summary()"
   ]
  },
  {
   "cell_type": "code",
   "execution_count": 46,
   "metadata": {},
   "outputs": [],
   "source": [
    "# Compile the model\n",
    "nn.compile(loss=\"binary_crossentropy\", optimizer=\"adam\", metrics=[\"accuracy\"])"
   ]
  },
  {
   "cell_type": "code",
   "execution_count": 47,
   "metadata": {},
   "outputs": [
    {
     "name": "stdout",
     "output_type": "stream",
     "text": [
      "Epoch 1/100\n",
      "804/804 [==============================] - 1s 822us/step - loss: 0.4720 - accuracy: 0.7760\n",
      "Epoch 2/100\n",
      "804/804 [==============================] - 1s 862us/step - loss: 0.4361 - accuracy: 0.7924\n",
      "Epoch 3/100\n",
      "804/804 [==============================] - 1s 834us/step - loss: 0.4302 - accuracy: 0.7947\n",
      "Epoch 4/100\n",
      "804/804 [==============================] - 1s 834us/step - loss: 0.4286 - accuracy: 0.7959\n",
      "Epoch 5/100\n",
      "804/804 [==============================] - 1s 809us/step - loss: 0.4261 - accuracy: 0.7951\n",
      "Epoch 6/100\n",
      "804/804 [==============================] - 1s 792us/step - loss: 0.4239 - accuracy: 0.7961\n",
      "Epoch 7/100\n",
      "804/804 [==============================] - 1s 794us/step - loss: 0.4233 - accuracy: 0.7969\n",
      "Epoch 8/100\n",
      "804/804 [==============================] - 1s 792us/step - loss: 0.4221 - accuracy: 0.7992\n",
      "Epoch 9/100\n",
      "804/804 [==============================] - 1s 801us/step - loss: 0.4210 - accuracy: 0.7996\n",
      "Epoch 10/100\n",
      "804/804 [==============================] - 1s 800us/step - loss: 0.4204 - accuracy: 0.7985\n",
      "Epoch 11/100\n",
      "804/804 [==============================] - 1s 804us/step - loss: 0.4192 - accuracy: 0.7996\n",
      "Epoch 12/100\n",
      "804/804 [==============================] - 1s 793us/step - loss: 0.4185 - accuracy: 0.8008\n",
      "Epoch 13/100\n",
      "804/804 [==============================] - 1s 800us/step - loss: 0.4187 - accuracy: 0.8005\n",
      "Epoch 14/100\n",
      "804/804 [==============================] - 1s 794us/step - loss: 0.4175 - accuracy: 0.8005\n",
      "Epoch 15/100\n",
      "804/804 [==============================] - 1s 791us/step - loss: 0.4176 - accuracy: 0.8014\n",
      "Epoch 16/100\n",
      "804/804 [==============================] - 1s 792us/step - loss: 0.4165 - accuracy: 0.8009\n",
      "Epoch 17/100\n",
      "804/804 [==============================] - 1s 791us/step - loss: 0.4157 - accuracy: 0.8013\n",
      "Epoch 18/100\n",
      "804/804 [==============================] - 1s 808us/step - loss: 0.4159 - accuracy: 0.8017\n",
      "Epoch 19/100\n",
      "804/804 [==============================] - 1s 797us/step - loss: 0.4150 - accuracy: 0.8023\n",
      "Epoch 20/100\n",
      "804/804 [==============================] - 1s 819us/step - loss: 0.4146 - accuracy: 0.8021\n",
      "Epoch 21/100\n",
      "804/804 [==============================] - 1s 789us/step - loss: 0.4144 - accuracy: 0.8015\n",
      "Epoch 22/100\n",
      "804/804 [==============================] - 1s 793us/step - loss: 0.4140 - accuracy: 0.8031\n",
      "Epoch 23/100\n",
      "804/804 [==============================] - 1s 793us/step - loss: 0.4133 - accuracy: 0.8029\n",
      "Epoch 24/100\n",
      "804/804 [==============================] - 1s 790us/step - loss: 0.4130 - accuracy: 0.8042\n",
      "Epoch 25/100\n",
      "804/804 [==============================] - 1s 790us/step - loss: 0.4123 - accuracy: 0.8038\n",
      "Epoch 26/100\n",
      "804/804 [==============================] - 1s 801us/step - loss: 0.4121 - accuracy: 0.8038\n",
      "Epoch 27/100\n",
      "804/804 [==============================] - 1s 788us/step - loss: 0.4121 - accuracy: 0.8033\n",
      "Epoch 28/100\n",
      "804/804 [==============================] - 1s 795us/step - loss: 0.4113 - accuracy: 0.8036\n",
      "Epoch 29/100\n",
      "804/804 [==============================] - 1s 792us/step - loss: 0.4113 - accuracy: 0.8045\n",
      "Epoch 30/100\n",
      "804/804 [==============================] - 1s 791us/step - loss: 0.4105 - accuracy: 0.8055\n",
      "Epoch 31/100\n",
      "804/804 [==============================] - 1s 793us/step - loss: 0.4108 - accuracy: 0.8043\n",
      "Epoch 32/100\n",
      "804/804 [==============================] - 1s 793us/step - loss: 0.4097 - accuracy: 0.8042\n",
      "Epoch 33/100\n",
      "804/804 [==============================] - 1s 808us/step - loss: 0.4097 - accuracy: 0.8042\n",
      "Epoch 34/100\n",
      "804/804 [==============================] - 1s 793us/step - loss: 0.4096 - accuracy: 0.8042\n",
      "Epoch 35/100\n",
      "804/804 [==============================] - 1s 792us/step - loss: 0.4095 - accuracy: 0.8045\n",
      "Epoch 36/100\n",
      "804/804 [==============================] - 1s 790us/step - loss: 0.4087 - accuracy: 0.8050\n",
      "Epoch 37/100\n",
      "804/804 [==============================] - 1s 788us/step - loss: 0.4088 - accuracy: 0.8050\n",
      "Epoch 38/100\n",
      "804/804 [==============================] - 1s 797us/step - loss: 0.4088 - accuracy: 0.8049\n",
      "Epoch 39/100\n",
      "804/804 [==============================] - 1s 786us/step - loss: 0.4082 - accuracy: 0.8056\n",
      "Epoch 40/100\n",
      "804/804 [==============================] - 1s 792us/step - loss: 0.4080 - accuracy: 0.8049\n",
      "Epoch 41/100\n",
      "804/804 [==============================] - 1s 799us/step - loss: 0.4078 - accuracy: 0.8060\n",
      "Epoch 42/100\n",
      "804/804 [==============================] - 1s 797us/step - loss: 0.4080 - accuracy: 0.8055\n",
      "Epoch 43/100\n",
      "804/804 [==============================] - 1s 791us/step - loss: 0.4070 - accuracy: 0.8067\n",
      "Epoch 44/100\n",
      "804/804 [==============================] - 1s 790us/step - loss: 0.4072 - accuracy: 0.8065\n",
      "Epoch 45/100\n",
      "804/804 [==============================] - 1s 798us/step - loss: 0.4069 - accuracy: 0.8058\n",
      "Epoch 46/100\n",
      "804/804 [==============================] - 1s 791us/step - loss: 0.4070 - accuracy: 0.8063\n",
      "Epoch 47/100\n",
      "804/804 [==============================] - 1s 796us/step - loss: 0.4063 - accuracy: 0.8073\n",
      "Epoch 48/100\n",
      "804/804 [==============================] - 1s 794us/step - loss: 0.4065 - accuracy: 0.8060\n",
      "Epoch 49/100\n",
      "804/804 [==============================] - 1s 800us/step - loss: 0.4060 - accuracy: 0.8064\n",
      "Epoch 50/100\n",
      "804/804 [==============================] - 1s 805us/step - loss: 0.4063 - accuracy: 0.8060\n",
      "Epoch 51/100\n",
      "804/804 [==============================] - 1s 802us/step - loss: 0.4062 - accuracy: 0.8066\n",
      "Epoch 52/100\n",
      "804/804 [==============================] - 1s 793us/step - loss: 0.4059 - accuracy: 0.8062\n",
      "Epoch 53/100\n",
      "804/804 [==============================] - 1s 796us/step - loss: 0.4055 - accuracy: 0.8068\n",
      "Epoch 54/100\n",
      "804/804 [==============================] - 1s 795us/step - loss: 0.4054 - accuracy: 0.8070\n",
      "Epoch 55/100\n",
      "804/804 [==============================] - 1s 799us/step - loss: 0.4051 - accuracy: 0.8076\n",
      "Epoch 56/100\n",
      "804/804 [==============================] - 1s 791us/step - loss: 0.4052 - accuracy: 0.8060\n",
      "Epoch 57/100\n",
      "804/804 [==============================] - 1s 805us/step - loss: 0.4053 - accuracy: 0.8063\n",
      "Epoch 58/100\n",
      "804/804 [==============================] - 1s 789us/step - loss: 0.4053 - accuracy: 0.8067\n",
      "Epoch 59/100\n",
      "804/804 [==============================] - 1s 787us/step - loss: 0.4049 - accuracy: 0.8070\n",
      "Epoch 60/100\n",
      "804/804 [==============================] - 1s 796us/step - loss: 0.4048 - accuracy: 0.8072\n",
      "Epoch 61/100\n",
      "804/804 [==============================] - 1s 788us/step - loss: 0.4046 - accuracy: 0.8065\n",
      "Epoch 62/100\n",
      "804/804 [==============================] - 1s 784us/step - loss: 0.4045 - accuracy: 0.8068\n",
      "Epoch 63/100\n",
      "804/804 [==============================] - 1s 787us/step - loss: 0.4040 - accuracy: 0.8075\n",
      "Epoch 64/100\n",
      "804/804 [==============================] - 1s 790us/step - loss: 0.4046 - accuracy: 0.8067\n",
      "Epoch 65/100\n",
      "804/804 [==============================] - 1s 797us/step - loss: 0.4039 - accuracy: 0.8071\n",
      "Epoch 66/100\n",
      "804/804 [==============================] - 1s 795us/step - loss: 0.4042 - accuracy: 0.8070\n",
      "Epoch 67/100\n",
      "804/804 [==============================] - 1s 792us/step - loss: 0.4041 - accuracy: 0.8068\n",
      "Epoch 68/100\n",
      "804/804 [==============================] - 1s 796us/step - loss: 0.4038 - accuracy: 0.8072\n",
      "Epoch 69/100\n",
      "804/804 [==============================] - 1s 792us/step - loss: 0.4036 - accuracy: 0.8070\n",
      "Epoch 70/100\n",
      "804/804 [==============================] - 1s 793us/step - loss: 0.4039 - accuracy: 0.8070\n",
      "Epoch 71/100\n",
      "804/804 [==============================] - 1s 793us/step - loss: 0.4035 - accuracy: 0.8076\n",
      "Epoch 72/100\n",
      "804/804 [==============================] - 1s 794us/step - loss: 0.4043 - accuracy: 0.8068\n",
      "Epoch 73/100\n",
      "804/804 [==============================] - 1s 799us/step - loss: 0.4030 - accuracy: 0.8077\n",
      "Epoch 74/100\n",
      "804/804 [==============================] - 1s 784us/step - loss: 0.4030 - accuracy: 0.8073\n",
      "Epoch 75/100\n",
      "804/804 [==============================] - 1s 784us/step - loss: 0.4029 - accuracy: 0.8073\n",
      "Epoch 76/100\n",
      "804/804 [==============================] - 1s 792us/step - loss: 0.4030 - accuracy: 0.8072\n",
      "Epoch 77/100\n",
      "804/804 [==============================] - 1s 816us/step - loss: 0.4030 - accuracy: 0.8070\n",
      "Epoch 78/100\n",
      "804/804 [==============================] - 1s 813us/step - loss: 0.4029 - accuracy: 0.8071\n",
      "Epoch 79/100\n"
     ]
    },
    {
     "name": "stdout",
     "output_type": "stream",
     "text": [
      "804/804 [==============================] - 1s 819us/step - loss: 0.4027 - accuracy: 0.8071\n",
      "Epoch 80/100\n",
      "804/804 [==============================] - 1s 784us/step - loss: 0.4023 - accuracy: 0.8073\n",
      "Epoch 81/100\n",
      "804/804 [==============================] - 1s 793us/step - loss: 0.4029 - accuracy: 0.8081\n",
      "Epoch 82/100\n",
      "804/804 [==============================] - 1s 786us/step - loss: 0.4027 - accuracy: 0.8076\n",
      "Epoch 83/100\n",
      "804/804 [==============================] - 1s 787us/step - loss: 0.4028 - accuracy: 0.8081\n",
      "Epoch 84/100\n",
      "804/804 [==============================] - 1s 786us/step - loss: 0.4022 - accuracy: 0.8077\n",
      "Epoch 85/100\n",
      "804/804 [==============================] - 1s 796us/step - loss: 0.4029 - accuracy: 0.8078\n",
      "Epoch 86/100\n",
      "804/804 [==============================] - 1s 783us/step - loss: 0.4022 - accuracy: 0.8076\n",
      "Epoch 87/100\n",
      "804/804 [==============================] - 1s 785us/step - loss: 0.4021 - accuracy: 0.8077\n",
      "Epoch 88/100\n",
      "804/804 [==============================] - 1s 787us/step - loss: 0.4022 - accuracy: 0.8084\n",
      "Epoch 89/100\n",
      "804/804 [==============================] - 1s 794us/step - loss: 0.4017 - accuracy: 0.8081\n",
      "Epoch 90/100\n",
      "804/804 [==============================] - 1s 782us/step - loss: 0.4021 - accuracy: 0.8080\n",
      "Epoch 91/100\n",
      "804/804 [==============================] - 1s 785us/step - loss: 0.4017 - accuracy: 0.8072\n",
      "Epoch 92/100\n",
      "804/804 [==============================] - 1s 806us/step - loss: 0.4019 - accuracy: 0.8083\n",
      "Epoch 93/100\n",
      "804/804 [==============================] - 1s 791us/step - loss: 0.4016 - accuracy: 0.8088\n",
      "Epoch 94/100\n",
      "804/804 [==============================] - 1s 786us/step - loss: 0.4024 - accuracy: 0.8076\n",
      "Epoch 95/100\n",
      "804/804 [==============================] - 1s 794us/step - loss: 0.4015 - accuracy: 0.8083\n",
      "Epoch 96/100\n",
      "804/804 [==============================] - 1s 787us/step - loss: 0.4016 - accuracy: 0.8079\n",
      "Epoch 97/100\n",
      "804/804 [==============================] - 1s 797us/step - loss: 0.4010 - accuracy: 0.8077\n",
      "Epoch 98/100\n",
      "804/804 [==============================] - 1s 785us/step - loss: 0.4021 - accuracy: 0.8075\n",
      "Epoch 99/100\n",
      "804/804 [==============================] - 1s 787us/step - loss: 0.4015 - accuracy: 0.8080\n",
      "Epoch 100/100\n",
      "804/804 [==============================] - 1s 807us/step - loss: 0.4011 - accuracy: 0.8084\n"
     ]
    }
   ],
   "source": [
    "# Train the model\n",
    "fit_model = nn.fit(X_train_scaled,y_train,epochs=100)"
   ]
  },
  {
   "cell_type": "code",
   "execution_count": 48,
   "metadata": {},
   "outputs": [
    {
     "name": "stdout",
     "output_type": "stream",
     "text": [
      "268/268 - 0s - loss: 0.4695 - accuracy: 0.7908 - 219ms/epoch - 817us/step\n",
      "Loss: 0.46952179074287415, Accuracy: 0.7907871603965759\n"
     ]
    }
   ],
   "source": [
    "# Evaluate the model using the test data\n",
    "model_loss, model_accuracy = nn.evaluate(X_test_scaled,y_test,verbose=2)\n",
    "print(f\"Loss: {model_loss}, Accuracy: {model_accuracy}\")"
   ]
  },
  {
   "cell_type": "code",
   "execution_count": 49,
   "metadata": {},
   "outputs": [
    {
     "name": "stderr",
     "output_type": "stream",
     "text": [
      "C:\\Users\\thong\\anaconda3\\lib\\site-packages\\keras\\src\\engine\\training.py:3103: UserWarning: You are saving your model as an HDF5 file via `model.save()`. This file format is considered legacy. We recommend using instead the native Keras format, e.g. `model.save('my_model.keras')`.\n",
      "  saving_api.save_model(\n"
     ]
    }
   ],
   "source": [
    "# Export our model to HDF5 file\n",
    "nn.save(\"AlphabetSoupCharity_Optimization.h5\")"
   ]
  },
  {
   "cell_type": "code",
   "execution_count": null,
   "metadata": {},
   "outputs": [],
   "source": []
  }
 ],
 "metadata": {
  "kernelspec": {
   "display_name": "Python 3 (ipykernel)",
   "language": "python",
   "name": "python3"
  },
  "language_info": {
   "codemirror_mode": {
    "name": "ipython",
    "version": 3
   },
   "file_extension": ".py",
   "mimetype": "text/x-python",
   "name": "python",
   "nbconvert_exporter": "python",
   "pygments_lexer": "ipython3",
   "version": "3.10.9"
  },
  "vscode": {
   "interpreter": {
    "hash": "31f2aee4e71d21fbe5cf8b01ff0e069b9275f58929596ceb00d14d90e3e16cd6"
   }
  }
 },
 "nbformat": 4,
 "nbformat_minor": 4
}
